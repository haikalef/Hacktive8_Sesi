{
 "cells": [
  {
   "cell_type": "markdown",
   "id": "533b9300",
   "metadata": {},
   "source": [
    "# Function, Basic Module, and Package"
   ]
  },
  {
   "cell_type": "markdown",
   "id": "565a72af",
   "metadata": {},
   "source": [
    "# Python Function"
   ]
  },
  {
   "cell_type": "markdown",
   "id": "22f1ab6e",
   "metadata": {},
   "source": [
    "## Defining a function  "
   ]
  },
  {
   "cell_type": "code",
   "execution_count": 1,
   "id": "f73859cb",
   "metadata": {},
   "outputs": [],
   "source": [
    "def luas (p, l):\n",
    "    \"function menghitung luas\"\n",
    "    print(p*l)"
   ]
  },
  {
   "cell_type": "code",
   "execution_count": 2,
   "id": "d3755cff",
   "metadata": {},
   "outputs": [
    {
     "name": "stdout",
     "output_type": "stream",
     "text": [
      "30\n",
      "<function luas at 0x000002EBB9055E50>\n"
     ]
    }
   ],
   "source": [
    "luas (10, 3)\n",
    "print(luas)"
   ]
  },
  {
   "cell_type": "markdown",
   "id": "b123b86e",
   "metadata": {},
   "source": [
    "## Calling a function"
   ]
  },
  {
   "cell_type": "code",
   "execution_count": 3,
   "id": "b96d8957",
   "metadata": {},
   "outputs": [
    {
     "name": "stdout",
     "output_type": "stream",
     "text": [
      "i.m first call to user defined function!\n"
     ]
    }
   ],
   "source": [
    "#Function definition is here\n",
    "\n",
    "def printme(Str):\n",
    "    \"this prints a passed string into this function\"\n",
    "    print(Str)\n",
    "    return\n",
    "\n",
    "#now you can call printme function\n",
    "printme('i.m first call to user defined function!')"
   ]
  },
  {
   "cell_type": "markdown",
   "id": "a83f61c7",
   "metadata": {},
   "source": [
    "# Pass by referenced vs value"
   ]
  },
  {
   "cell_type": "code",
   "execution_count": 5,
   "id": "b3708df7",
   "metadata": {},
   "outputs": [],
   "source": [
    "#Function definition is here\n",
    "def changeme( mylist ):\n",
    "    \"this changes a passed list into this function\"\n",
    "    mylist.append([1,2,3,4]);\n",
    "    print(\"values inside the function:\", mylist)\n",
    "    return"
   ]
  },
  {
   "cell_type": "code",
   "execution_count": 7,
   "id": "6f3db577",
   "metadata": {},
   "outputs": [
    {
     "name": "stdout",
     "output_type": "stream",
     "text": [
      "values inside the function: [10, 20, 30, [1, 2, 3, 4]]\n",
      "values outside the function: [10, 20, 30, [1, 2, 3, 4]]\n"
     ]
    }
   ],
   "source": [
    "#now you can call changeme function\n",
    "mylist =[10,20,30];\n",
    "changeme(mylist);\n",
    "print(\"values outside the function:\", mylist)"
   ]
  },
  {
   "cell_type": "code",
   "execution_count": 8,
   "id": "7d58a7aa",
   "metadata": {},
   "outputs": [
    {
     "name": "stdout",
     "output_type": "stream",
     "text": [
      "values inside the function: [1, 2, 3, 4]\n",
      "values outside the function: [10, 20, 30]\n"
     ]
    }
   ],
   "source": [
    "#Function definition is here\n",
    "def changeme(mylist):\n",
    "    mylist = [1,2,3,4];\n",
    "    print (\"values inside the function:\", mylist)\n",
    "    \n",
    "#now you can call changeme function\n",
    "mylist = [10,20,30];\n",
    "changeme(mylist);\n",
    "print(\"values outside the function:\", mylist)"
   ]
  },
  {
   "cell_type": "markdown",
   "id": "518f56a4",
   "metadata": {},
   "source": [
    "# Function Argument"
   ]
  },
  {
   "cell_type": "markdown",
   "id": "33914f1e",
   "metadata": {},
   "source": [
    "## Required Arguments"
   ]
  },
  {
   "cell_type": "code",
   "execution_count": 10,
   "id": "6e44bad4",
   "metadata": {},
   "outputs": [
    {
     "name": "stdout",
     "output_type": "stream",
     "text": [
      "Hacktiv8\n"
     ]
    }
   ],
   "source": [
    "def printme(str):\n",
    "    \"this prints a passed string into this function\"\n",
    "    print(str)\n",
    "    return;\n",
    "\n",
    "printme(\"Hacktiv8\")"
   ]
  },
  {
   "cell_type": "markdown",
   "id": "fe4915b9",
   "metadata": {},
   "source": [
    "## Key Arguments"
   ]
  },
  {
   "cell_type": "code",
   "execution_count": 11,
   "id": "ed305119",
   "metadata": {},
   "outputs": [
    {
     "name": "stdout",
     "output_type": "stream",
     "text": [
      "Hacktiv8\n"
     ]
    }
   ],
   "source": [
    "def printme(str):\n",
    "    \"this prints a passed string into this function\"\n",
    "    print(str)\n",
    "    return;\n",
    "\n",
    "printme(str = \"Hacktiv8\")"
   ]
  },
  {
   "cell_type": "code",
   "execution_count": 13,
   "id": "af5b0438",
   "metadata": {},
   "outputs": [
    {
     "name": "stdout",
     "output_type": "stream",
     "text": [
      "name: Rosita Nurul Janatin\n",
      "age: 20\n"
     ]
    }
   ],
   "source": [
    "def print_info(name,age):\n",
    "    \"this prints a passed string into this function\"\n",
    "    print(\"name:\", name)\n",
    "    print(\"age:\", age)\n",
    "    return;\n",
    "\n",
    "print_info(name= \"Rosita Nurul Janatin\", age= \"20\")"
   ]
  },
  {
   "cell_type": "markdown",
   "id": "71e75a7b",
   "metadata": {},
   "source": [
    "## Default Arguments"
   ]
  },
  {
   "cell_type": "code",
   "execution_count": 14,
   "id": "46107d7d",
   "metadata": {},
   "outputs": [
    {
     "name": "stdout",
     "output_type": "stream",
     "text": [
      "nama: Rosita Nurul Janatin\n",
      "age: 20\n",
      "nama: Rosita Nurul Janatin\n",
      "age: 19\n"
     ]
    }
   ],
   "source": [
    "def print_info(name, age = 20):\n",
    "    \"this prints a passed string into this function\"\n",
    "    print(\"nama:\", name)\n",
    "    print(\"age:\", age)\n",
    "    return;\n",
    "\n",
    "print_info(name = \"Rosita Nurul Janatin\")\n",
    "print_info(name=\"Rosita Nurul Janatin\", age=\"19\")"
   ]
  },
  {
   "cell_type": "markdown",
   "id": "3ddf8a25",
   "metadata": {},
   "source": [
    "## Variable-length Arguments"
   ]
  },
  {
   "cell_type": "code",
   "execution_count": 17,
   "id": "7c4ddabe",
   "metadata": {},
   "outputs": [
    {
     "name": "stdout",
     "output_type": "stream",
     "text": [
      "output is:\n",
      "10\n",
      "output is:\n",
      "70\n",
      "60\n",
      "50\n",
      "a\n"
     ]
    }
   ],
   "source": [
    "#function definition is here\n",
    "def printinfo(arg1, *vartuple):\n",
    "    \"this prints a variable passed arguments\"\n",
    "    print(\"output is:\")\n",
    "    print(arg1)\n",
    "    for var in vartuple:\n",
    "        print(var)\n",
    "    return;\n",
    "\n",
    "#now you can call printinfo function\n",
    "printinfo(10)\n",
    "printinfo(70,60,50,\"a\")"
   ]
  },
  {
   "cell_type": "markdown",
   "id": "7947aa94",
   "metadata": {},
   "source": [
    "## Anonymous Functions"
   ]
  },
  {
   "cell_type": "code",
   "execution_count": 18,
   "id": "cbf8d75b",
   "metadata": {},
   "outputs": [
    {
     "name": "stdout",
     "output_type": "stream",
     "text": [
      "value of total: 50\n"
     ]
    }
   ],
   "source": [
    "sum = lambda arg1, arg2: arg1+arg2;\n",
    "\n",
    "def sum(arg1, arg2):\n",
    "    x = arg1+arg2\n",
    "    return x;\n",
    "    \n",
    "print(\"value of total:\", sum(30,20))"
   ]
  },
  {
   "cell_type": "markdown",
   "id": "59bdde79",
   "metadata": {},
   "source": [
    "## The Return Statement"
   ]
  },
  {
   "cell_type": "code",
   "execution_count": 19,
   "id": "7e86fcad",
   "metadata": {},
   "outputs": [
    {
     "name": "stdout",
     "output_type": "stream",
     "text": [
      "inside the function: 30\n",
      "outside the function: 50\n"
     ]
    }
   ],
   "source": [
    "#Function definition is here\n",
    "def sum(arg1, arg2):\n",
    "    total=arg1+arg2\n",
    "    total2=total+arg2\n",
    "    print(\"inside the function:\", total)\n",
    "    return total2\n",
    "\n",
    "total=sum(10,20)\n",
    "print(\"outside the function:\", total)"
   ]
  },
  {
   "cell_type": "markdown",
   "id": "bb595d8c",
   "metadata": {},
   "source": [
    "## Scope of Variables"
   ]
  },
  {
   "cell_type": "markdown",
   "id": "b30b84d9",
   "metadata": {},
   "source": [
    "## Global vs Local Variables"
   ]
  },
  {
   "cell_type": "code",
   "execution_count": 20,
   "id": "de016d2a",
   "metadata": {},
   "outputs": [
    {
     "name": "stdout",
     "output_type": "stream",
     "text": [
      "inside the function local total: 130\n",
      "outside the function global total: 0\n"
     ]
    }
   ],
   "source": [
    "total=0;\n",
    "\n",
    "def sum(arg1, arg2):\n",
    "    total=arg1+arg2;\n",
    "    print(\"inside the function local total:\", total)\n",
    "    return total;\n",
    "\n",
    "sum(100,30)\n",
    "print(\"outside the function global total:\", total)"
   ]
  },
  {
   "cell_type": "code",
   "execution_count": 21,
   "id": "c3a7271a",
   "metadata": {},
   "outputs": [
    {
     "name": "stdout",
     "output_type": "stream",
     "text": [
      "jumlah hewan: 50\n",
      "jumlah kelinci: 40\n"
     ]
    }
   ],
   "source": [
    "jumlah_kucing = 20\n",
    "\n",
    "def jumlah_hewan():\n",
    "    jumlah_Anjing = 30;\n",
    "    return jumlah_kucing + jumlah_Anjing;\n",
    "\n",
    "def jumlah_kelinci():\n",
    "    return jumlah_kucing + jumlah_kucing;\n",
    "\n",
    "print(\"jumlah hewan:\", jumlah_hewan())\n",
    "print(\"jumlah kelinci:\", jumlah_kelinci())"
   ]
  },
  {
   "cell_type": "markdown",
   "id": "79dd15ea",
   "metadata": {},
   "source": [
    "# Python Modules and Python Packages"
   ]
  },
  {
   "cell_type": "markdown",
   "id": "fda139c9",
   "metadata": {},
   "source": [
    "## Python Modules: Overview"
   ]
  },
  {
   "cell_type": "code",
   "execution_count": 1,
   "id": "2d2d96df",
   "metadata": {},
   "outputs": [],
   "source": [
    "import mod"
   ]
  },
  {
   "cell_type": "code",
   "execution_count": 2,
   "id": "cd74d907",
   "metadata": {},
   "outputs": [
    {
     "name": "stdout",
     "output_type": "stream",
     "text": [
      "Hacktive9-PTP Python For Data Science\n"
     ]
    }
   ],
   "source": [
    "print(mod.s)"
   ]
  },
  {
   "cell_type": "code",
   "execution_count": 3,
   "id": "35c17bd5",
   "metadata": {},
   "outputs": [
    {
     "data": {
      "text/plain": [
       "[100, 200, 300]"
      ]
     },
     "execution_count": 3,
     "metadata": {},
     "output_type": "execute_result"
    }
   ],
   "source": [
    "mod.a"
   ]
  },
  {
   "cell_type": "code",
   "execution_count": 4,
   "id": "250240af",
   "metadata": {},
   "outputs": [
    {
     "name": "stdout",
     "output_type": "stream",
     "text": [
      "arg= ['quux', 'corge', 'grault']\n"
     ]
    }
   ],
   "source": [
    "mod.foo(['quux', 'corge', 'grault'])"
   ]
  },
  {
   "cell_type": "code",
   "execution_count": 5,
   "id": "cd18cc6d",
   "metadata": {},
   "outputs": [],
   "source": [
    "x= mod.Foo()"
   ]
  },
  {
   "cell_type": "code",
   "execution_count": 6,
   "id": "701f41fe",
   "metadata": {},
   "outputs": [
    {
     "data": {
      "text/plain": [
       "<mod.Foo at 0x2890f2120e0>"
      ]
     },
     "execution_count": 6,
     "metadata": {},
     "output_type": "execute_result"
    }
   ],
   "source": [
    "x"
   ]
  },
  {
   "attachments": {},
   "cell_type": "markdown",
   "id": "9d0b69db",
   "metadata": {},
   "source": [
    "# The Module Search Path"
   ]
  },
  {
   "cell_type": "code",
   "execution_count": 7,
   "id": "fc9accae",
   "metadata": {},
   "outputs": [],
   "source": [
    "import mod"
   ]
  },
  {
   "cell_type": "code",
   "execution_count": 8,
   "id": "2b04f213",
   "metadata": {},
   "outputs": [],
   "source": [
    "import sys"
   ]
  },
  {
   "cell_type": "code",
   "execution_count": 9,
   "id": "688e84d9",
   "metadata": {},
   "outputs": [
    {
     "data": {
      "text/plain": [
       "['c:\\\\Users\\\\haikalef\\\\Documents\\\\MSIB HACKTIV8\\\\sesi 3',\n",
       " 'C:\\\\Program Files\\\\WindowsApps\\\\PythonSoftwareFoundation.Python.3.10_3.10.2544.0_x64__qbz5n2kfra8p0\\\\python310.zip',\n",
       " 'C:\\\\Program Files\\\\WindowsApps\\\\PythonSoftwareFoundation.Python.3.10_3.10.2544.0_x64__qbz5n2kfra8p0\\\\DLLs',\n",
       " 'C:\\\\Program Files\\\\WindowsApps\\\\PythonSoftwareFoundation.Python.3.10_3.10.2544.0_x64__qbz5n2kfra8p0\\\\lib',\n",
       " 'C:\\\\Users\\\\haikalef\\\\AppData\\\\Local\\\\Microsoft\\\\WindowsApps\\\\PythonSoftwareFoundation.Python.3.10_qbz5n2kfra8p0',\n",
       " '',\n",
       " 'C:\\\\Users\\\\haikalef\\\\AppData\\\\Local\\\\Packages\\\\PythonSoftwareFoundation.Python.3.10_qbz5n2kfra8p0\\\\LocalCache\\\\local-packages\\\\Python310\\\\site-packages',\n",
       " 'C:\\\\Users\\\\haikalef\\\\AppData\\\\Local\\\\Packages\\\\PythonSoftwareFoundation.Python.3.10_qbz5n2kfra8p0\\\\LocalCache\\\\local-packages\\\\Python310\\\\site-packages\\\\win32',\n",
       " 'C:\\\\Users\\\\haikalef\\\\AppData\\\\Local\\\\Packages\\\\PythonSoftwareFoundation.Python.3.10_qbz5n2kfra8p0\\\\LocalCache\\\\local-packages\\\\Python310\\\\site-packages\\\\win32\\\\lib',\n",
       " 'C:\\\\Users\\\\haikalef\\\\AppData\\\\Local\\\\Packages\\\\PythonSoftwareFoundation.Python.3.10_qbz5n2kfra8p0\\\\LocalCache\\\\local-packages\\\\Python310\\\\site-packages\\\\Pythonwin',\n",
       " 'C:\\\\Program Files\\\\WindowsApps\\\\PythonSoftwareFoundation.Python.3.10_3.10.2544.0_x64__qbz5n2kfra8p0',\n",
       " 'C:\\\\Program Files\\\\WindowsApps\\\\PythonSoftwareFoundation.Python.3.10_3.10.2544.0_x64__qbz5n2kfra8p0\\\\lib\\\\site-packages']"
      ]
     },
     "execution_count": 9,
     "metadata": {},
     "output_type": "execute_result"
    }
   ],
   "source": [
    "sys.path"
   ]
  },
  {
   "cell_type": "code",
   "execution_count": 10,
   "id": "0605b1e2",
   "metadata": {},
   "outputs": [
    {
     "data": {
      "text/plain": [
       "'c:\\\\Users\\\\haikalef\\\\Documents\\\\MSIB HACKTIV8\\\\sesi 3\\\\mod.py'"
      ]
     },
     "execution_count": 10,
     "metadata": {},
     "output_type": "execute_result"
    }
   ],
   "source": [
    "mod.__file__"
   ]
  },
  {
   "cell_type": "code",
   "execution_count": 11,
   "id": "a5545b98",
   "metadata": {},
   "outputs": [
    {
     "data": {
      "text/plain": [
       "<module 'mod' from 'c:\\\\Users\\\\haikalef\\\\Documents\\\\MSIB HACKTIV8\\\\sesi 3\\\\mod.py'>"
      ]
     },
     "execution_count": 11,
     "metadata": {},
     "output_type": "execute_result"
    }
   ],
   "source": [
    "mod"
   ]
  },
  {
   "attachments": {},
   "cell_type": "markdown",
   "id": "ec653c3c",
   "metadata": {},
   "source": [
    "# The Import Statement"
   ]
  },
  {
   "cell_type": "code",
   "execution_count": 14,
   "id": "1edf2bc2",
   "metadata": {},
   "outputs": [
    {
     "data": {
      "text/plain": [
       "<module 'mod' from 'c:\\\\Users\\\\haikalef\\\\Documents\\\\MSIB HACKTIV8\\\\sesi 3\\\\mod.py'>"
      ]
     },
     "execution_count": 14,
     "metadata": {},
     "output_type": "execute_result"
    }
   ],
   "source": [
    "import mod\n",
    "mod"
   ]
  },
  {
   "cell_type": "code",
   "execution_count": 15,
   "id": "f745b4d6",
   "metadata": {},
   "outputs": [
    {
     "data": {
      "text/plain": [
       "'Hacktive9-PTP Python For Data Science'"
      ]
     },
     "execution_count": 15,
     "metadata": {},
     "output_type": "execute_result"
    }
   ],
   "source": [
    "mod.s"
   ]
  },
  {
   "cell_type": "code",
   "execution_count": 17,
   "id": "90549fec",
   "metadata": {},
   "outputs": [
    {
     "name": "stdout",
     "output_type": "stream",
     "text": [
      "arg= quux\n"
     ]
    }
   ],
   "source": [
    "mod.foo('quux')"
   ]
  },
  {
   "attachments": {},
   "cell_type": "markdown",
   "id": "1b835065",
   "metadata": {},
   "source": [
    "# The dir() Function"
   ]
  },
  {
   "cell_type": "code",
   "execution_count": 18,
   "id": "68c822d5",
   "metadata": {},
   "outputs": [
    {
     "data": {
      "text/plain": [
       "['In',\n",
       " 'Out',\n",
       " '_',\n",
       " '_10',\n",
       " '_11',\n",
       " '_14',\n",
       " '_15',\n",
       " '_3',\n",
       " '_6',\n",
       " '_9',\n",
       " '__',\n",
       " '___',\n",
       " '__builtin__',\n",
       " '__builtins__',\n",
       " '__doc__',\n",
       " '__loader__',\n",
       " '__name__',\n",
       " '__package__',\n",
       " '__spec__',\n",
       " '__vsc_ipynb_file__',\n",
       " '_dh',\n",
       " '_i',\n",
       " '_i1',\n",
       " '_i10',\n",
       " '_i11',\n",
       " '_i12',\n",
       " '_i13',\n",
       " '_i14',\n",
       " '_i15',\n",
       " '_i16',\n",
       " '_i17',\n",
       " '_i18',\n",
       " '_i2',\n",
       " '_i3',\n",
       " '_i4',\n",
       " '_i5',\n",
       " '_i6',\n",
       " '_i7',\n",
       " '_i8',\n",
       " '_i9',\n",
       " '_ih',\n",
       " '_ii',\n",
       " '_iii',\n",
       " '_oh',\n",
       " 'exit',\n",
       " 'get_ipython',\n",
       " 'mod',\n",
       " 'os',\n",
       " 'quit',\n",
       " 'sys',\n",
       " 'x']"
      ]
     },
     "execution_count": 18,
     "metadata": {},
     "output_type": "execute_result"
    }
   ],
   "source": [
    "dir()"
   ]
  },
  {
   "cell_type": "code",
   "execution_count": 19,
   "id": "dbfb4e50",
   "metadata": {},
   "outputs": [],
   "source": [
    "class Bar():\n",
    "    pass"
   ]
  },
  {
   "cell_type": "code",
   "execution_count": 20,
   "id": "efc71561",
   "metadata": {},
   "outputs": [],
   "source": [
    "x = Bar()"
   ]
  },
  {
   "cell_type": "code",
   "execution_count": 21,
   "id": "8d358845",
   "metadata": {},
   "outputs": [
    {
     "data": {
      "text/plain": [
       "['Bar',\n",
       " 'In',\n",
       " 'Out',\n",
       " '_',\n",
       " '_10',\n",
       " '_11',\n",
       " '_14',\n",
       " '_15',\n",
       " '_18',\n",
       " '_3',\n",
       " '_6',\n",
       " '_9',\n",
       " '__',\n",
       " '___',\n",
       " '__builtin__',\n",
       " '__builtins__',\n",
       " '__doc__',\n",
       " '__loader__',\n",
       " '__name__',\n",
       " '__package__',\n",
       " '__spec__',\n",
       " '__vsc_ipynb_file__',\n",
       " '_dh',\n",
       " '_i',\n",
       " '_i1',\n",
       " '_i10',\n",
       " '_i11',\n",
       " '_i12',\n",
       " '_i13',\n",
       " '_i14',\n",
       " '_i15',\n",
       " '_i16',\n",
       " '_i17',\n",
       " '_i18',\n",
       " '_i19',\n",
       " '_i2',\n",
       " '_i20',\n",
       " '_i21',\n",
       " '_i3',\n",
       " '_i4',\n",
       " '_i5',\n",
       " '_i6',\n",
       " '_i7',\n",
       " '_i8',\n",
       " '_i9',\n",
       " '_ih',\n",
       " '_ii',\n",
       " '_iii',\n",
       " '_oh',\n",
       " 'exit',\n",
       " 'get_ipython',\n",
       " 'mod',\n",
       " 'os',\n",
       " 'quit',\n",
       " 'sys',\n",
       " 'x']"
      ]
     },
     "execution_count": 21,
     "metadata": {},
     "output_type": "execute_result"
    }
   ],
   "source": [
    "dir()"
   ]
  },
  {
   "cell_type": "code",
   "execution_count": 22,
   "id": "dc31f589",
   "metadata": {},
   "outputs": [],
   "source": [
    "import mod"
   ]
  },
  {
   "cell_type": "code",
   "execution_count": 23,
   "id": "cfa9c13d",
   "metadata": {},
   "outputs": [
    {
     "data": {
      "text/plain": [
       "['Foo',\n",
       " '__builtins__',\n",
       " '__cached__',\n",
       " '__doc__',\n",
       " '__file__',\n",
       " '__loader__',\n",
       " '__name__',\n",
       " '__package__',\n",
       " '__spec__',\n",
       " 'a',\n",
       " 'foo',\n",
       " 's']"
      ]
     },
     "execution_count": 23,
     "metadata": {},
     "output_type": "execute_result"
    }
   ],
   "source": [
    "dir(mod)"
   ]
  },
  {
   "cell_type": "code",
   "execution_count": 24,
   "id": "6bf441ad",
   "metadata": {},
   "outputs": [],
   "source": [
    "import pandas"
   ]
  },
  {
   "attachments": {},
   "cell_type": "markdown",
   "id": "1edc3bea",
   "metadata": {},
   "source": [
    "# Python Packages"
   ]
  },
  {
   "cell_type": "code",
   "execution_count": 25,
   "id": "d8508066",
   "metadata": {},
   "outputs": [],
   "source": [
    "#import pkg.modl, pkg.mod2"
   ]
  },
  {
   "cell_type": "code",
   "execution_count": 26,
   "id": "d740cfc1",
   "metadata": {},
   "outputs": [],
   "source": [
    "#pkg"
   ]
  }
 ],
 "metadata": {
  "kernelspec": {
   "display_name": "Python 3",
   "language": "python",
   "name": "python3"
  },
  "language_info": {
   "codemirror_mode": {
    "name": "ipython",
    "version": 3
   },
   "file_extension": ".py",
   "mimetype": "text/x-python",
   "name": "python",
   "nbconvert_exporter": "python",
   "pygments_lexer": "ipython3",
   "version": "3.10.9"
  },
  "vscode": {
   "interpreter": {
    "hash": "1893f2544756d8945f49b955d73f12a3e84a5adae09729c97b7bc6fef8e5f5a7"
   }
  }
 },
 "nbformat": 4,
 "nbformat_minor": 5
}
